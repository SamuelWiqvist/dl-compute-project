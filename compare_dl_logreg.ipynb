{
 "cells": [
  {
   "cell_type": "markdown",
   "metadata": {},
   "source": [
    "# DL vs logistic regression for a standard classification problem"
   ]
  },
  {
   "cell_type": "markdown",
   "metadata": {},
   "source": [
    "Bla bla bla..."
   ]
  },
  {
   "cell_type": "markdown",
   "metadata": {},
   "source": [
    "## Set up"
   ]
  },
  {
   "cell_type": "code",
   "execution_count": null,
   "metadata": {},
   "outputs": [],
   "source": [
    "using Pkg\n",
    "Pkg.status()\n",
    "Pkg.build(\"Knet\")\n",
    "using Knet\n",
    "using PyPlot\n",
    "using LinearAlgebra\n",
    "using Random\n",
    "using Printf\n",
    "import StatsBase.predict\n",
    "using GLM\n",
    "using DataFrames\n",
    "\n",
    "include(pwd()*\"/utilities.jl\")"
   ]
  },
  {
   "cell_type": "markdown",
   "metadata": {},
   "source": [
    "## DL model"
   ]
  },
  {
   "cell_type": "markdown",
   "metadata": {},
   "source": [
    "Load data."
   ]
  },
  {
   "cell_type": "code",
   "execution_count": null,
   "metadata": {},
   "outputs": [],
   "source": [
    "Random.seed!(1234) # set random numbers\n",
    "x_train,y_train,x_val,y_val,x_test,y_test = load_data([1,2])"
   ]
  },
  {
   "cell_type": "markdown",
   "metadata": {},
   "source": [
    "Set up network"
   ]
  },
  {
   "cell_type": "code",
   "execution_count": null,
   "metadata": {},
   "outputs": [],
   "source": [
    "n_input = 8\n",
    "n_hidden_1 = 100\n",
    "n_hidden_2 = 50\n",
    "n_hidden_3 = 25\n",
    "n_out = 2\n",
    "\n",
    "w = Any[ xavier(n_hidden_1,n_input), zeros(n_hidden_1,1),\n",
    "         xavier(n_hidden_2,n_hidden_1), zeros(n_hidden_2,1),\n",
    "         xavier(n_hidden_3,n_hidden_2), zeros(n_hidden_3,1),\n",
    "         xavier(n_out,n_hidden_3), zeros(n_out,1)]"
   ]
  },
  {
   "cell_type": "markdown",
   "metadata": {},
   "source": [
    "Calc number of weights."
   ]
  },
  {
   "cell_type": "code",
   "execution_count": null,
   "metadata": {},
   "outputs": [],
   "source": [
    "nbr_training_obs = length(y_train)\n",
    "nbr_parameters = 0\n",
    "\n",
    "for i in w\n",
    "    global nbr_parameters = nbr_parameters + size(i,1)*size(i,2)\n",
    "end\n",
    "\n",
    "@printf \"Nbr training obs %d, nbr parameters %d, obs/parameters %.2f\\n\" nbr_training_obs nbr_parameters nbr_training_obs/nbr_parameters\n"
   ]
  },
  {
   "cell_type": "markdown",
   "metadata": {},
   "source": [
    "Set up networks functions."
   ]
  },
  {
   "cell_type": "code",
   "execution_count": null,
   "metadata": {},
   "outputs": [],
   "source": [
    "function predict(w,x)\n",
    "    output = zeros(2,size(x,2))\n",
    "    for i=1:2:length(w)-2\n",
    "        x = relu.(w[i]*x .+ w[i+1])\n",
    "    end\n",
    "    return w[end-1]*x .+ w[end]\n",
    "end\n",
    "\n",
    "loss(w,x,ygold) = Knet.nll(predict(w,x), ygold; average=false)\n",
    "\n",
    "lossgradient = grad(loss)\n",
    "\n",
    "optim = optimizers(w, Adam)"
   ]
  },
  {
   "cell_type": "markdown",
   "metadata": {},
   "source": [
    "Set training function."
   ]
  },
  {
   "cell_type": "code",
   "execution_count": null,
   "metadata": {},
   "outputs": [],
   "source": [
    "function train(epoch::Int,dropout_percentage::Real,lambda::Vector)\n",
    "\n",
    "    loss_train = zeros(epoch)\n",
    "    loss_val = zeros(epoch)\n",
    "\n",
    "    for i in 1:epoch\n",
    "\n",
    "        idx_train = rand(1:size(x_train,2),size(x_train,2))\n",
    "        idx_val = rand(1:size(x_val,2),size(x_val,2))\n",
    "\n",
    "        grads = lossgradient(w,x_train[:,idx_train[:]],y_train[idx_train])\n",
    "        update!(w, grads, optim)\n",
    "\n",
    "        loss_train[i] = loss(w,x_train[:,idx_train[:]], y_train[idx_train])\n",
    "        loss_val[i] = loss(w,x_val[:,idx_val], y_val[idx_val])\n",
    "\n",
    "    end\n",
    "\n",
    "    return loss_train, loss_val\n",
    "\n",
    "end"
   ]
  },
  {
   "cell_type": "markdown",
   "metadata": {},
   "source": [
    "Train network."
   ]
  },
  {
   "cell_type": "code",
   "execution_count": null,
   "metadata": {},
   "outputs": [],
   "source": [
    "@time loss_train, loss_val = train(5000,0,zeros(3))"
   ]
  },
  {
   "cell_type": "markdown",
   "metadata": {},
   "source": [
    "Compute predictions."
   ]
  },
  {
   "cell_type": "code",
   "execution_count": null,
   "metadata": {},
   "outputs": [],
   "source": [
    "y_pred_train_proc = predict(w, x_train)\n",
    "y_pred_proc = predict(w, x_test)\n",
    "\n",
    "y_pred_train = class_nll(y_pred_train_proc,labels)\n",
    "y_pred_test = class_nll(y_pred_proc,labels)"
   ]
  },
  {
   "cell_type": "markdown",
   "metadata": {},
   "source": [
    "Check classfication results."
   ]
  },
  {
   "cell_type": "code",
   "execution_count": null,
   "metadata": {},
   "outputs": [],
   "source": [
    "# loss\n",
    "loss_training = loss(w,x_train[:,end:-1:1], y_train[end:-1:1])\n",
    "loss_test = loss(w,x_test[:,end:-1:1], y_test[end:-1:1])\n",
    "\n",
    "# classification results\n",
    "class_res_training = classification_results(y_pred_train, y_train, [1,2])\n",
    "class_res_test = classification_results(y_pred_test, y_test, [1,2])"
   ]
  },
  {
   "cell_type": "markdown",
   "metadata": {},
   "source": [
    "Print training and test loss."
   ]
  },
  {
   "cell_type": "code",
   "execution_count": null,
   "metadata": {},
   "outputs": [],
   "source": [
    "PyPlot.figure()\n",
    "PyPlot.plot(loss_train, \"b\")\n",
    "PyPlot.plot(loss_val, \"r\")"
   ]
  },
  {
   "cell_type": "markdown",
   "metadata": {},
   "source": [
    "## Logistic regression model"
   ]
  },
  {
   "cell_type": "markdown",
   "metadata": {},
   "source": [
    "Load data."
   ]
  },
  {
   "cell_type": "code",
   "execution_count": null,
   "metadata": {},
   "outputs": [],
   "source": [
    "Random.seed!(1234) # set random numbers\n",
    "x_train,y_train,x_val,y_val,x_test,y_test = load_data()"
   ]
  },
  {
   "cell_type": "markdown",
   "metadata": {},
   "source": [
    "Create data frames for training and test data."
   ]
  },
  {
   "cell_type": "code",
   "execution_count": null,
   "metadata": {},
   "outputs": [],
   "source": [
    "training_data = zeros(size(x_train,2), size(x_train,1)+1)\n",
    "training_data[:,1:end-1] = x_train'\n",
    "training_data[:,end] = y_train\n",
    "train_df = DataFrame(training_data)\n",
    "test_df = DataFrame(x_test')"
   ]
  },
  {
   "cell_type": "markdown",
   "metadata": {},
   "source": [
    "Setup and train model."
   ]
  },
  {
   "cell_type": "code",
   "execution_count": null,
   "metadata": {},
   "outputs": [],
   "source": [
    "model = @formula(x9 ~ x1+x2+x3+x4+x5+x6+x7+x8)\n",
    "@time logisticregresson = glm(model, train_df, Binomial(), LogitLink())\n",
    "\n",
    "print(logisticregresson)"
   ]
  },
  {
   "cell_type": "markdown",
   "metadata": {},
   "source": [
    "Print fitted model."
   ]
  },
  {
   "cell_type": "code",
   "execution_count": null,
   "metadata": {},
   "outputs": [],
   "source": [
    "print(logisticregresson)"
   ]
  },
  {
   "cell_type": "markdown",
   "metadata": {},
   "source": [
    "The model fit seems to be okey since most of the parameters are significant."
   ]
  },
  {
   "cell_type": "markdown",
   "metadata": {},
   "source": [
    "Next, compute predictions for training and test data."
   ]
  },
  {
   "cell_type": "code",
   "execution_count": null,
   "metadata": {},
   "outputs": [],
   "source": [
    "y_pred_train = zeros(2,length(y_train))\n",
    "y_pred_train[1,:] = predict(logisticregresson)\n",
    "y_pred_train[2,:] = 1 .- y_pred_train[1,:]\n",
    "y_pred_train = class(y_pred_train)\n",
    "\n",
    "y_pred = zeros(2,length(y_test))\n",
    "y_pred[1,:] = predict(logisticregresson,test_df)\n",
    "y_pred[2,:] = 1 .- y_pred[1,:]\n",
    "y_pred = class(y_pred)"
   ]
  },
  {
   "cell_type": "markdown",
   "metadata": {},
   "source": [
    "Check classfication results."
   ]
  },
  {
   "cell_type": "code",
   "execution_count": null,
   "metadata": {},
   "outputs": [],
   "source": [
    "class_res_training = classification_results(y_pred_train, y_train)\n",
    "class_res_test = classification_results(y_pred, y_test)\n",
    "\n",
    "# print resutls nicly here!"
   ]
  },
  {
   "cell_type": "markdown",
   "metadata": {},
   "source": [
    "## Comparison"
   ]
  },
  {
   "cell_type": "code",
   "execution_count": null,
   "metadata": {},
   "outputs": [],
   "source": []
  },
  {
   "cell_type": "code",
   "execution_count": null,
   "metadata": {},
   "outputs": [],
   "source": []
  },
  {
   "cell_type": "code",
   "execution_count": null,
   "metadata": {},
   "outputs": [],
   "source": []
  },
  {
   "cell_type": "code",
   "execution_count": null,
   "metadata": {},
   "outputs": [],
   "source": []
  }
 ],
 "metadata": {
  "kernelspec": {
   "display_name": "Julia 1.0.0",
   "language": "julia",
   "name": "julia-1.0"
  },
  "language_info": {
   "file_extension": ".jl",
   "mimetype": "application/julia",
   "name": "julia",
   "version": "1.0.0"
  }
 },
 "nbformat": 4,
 "nbformat_minor": 2
}
